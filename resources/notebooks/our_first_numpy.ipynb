{
 "cells": [
  {
   "cell_type": "markdown",
   "metadata": {},
   "source": [
    "    Authors: jtyalor && vinguyen"
   ]
  },
  {
   "cell_type": "markdown",
   "metadata": {},
   "source": [
    "#import numpy as np"
   ]
  },
  {
   "cell_type": "markdown",
   "metadata": {},
   "source": [
    "1. Create a matrix of random values of a distribution of your choice."
   ]
  },
  {
   "cell_type": "code",
   "execution_count": 712,
   "metadata": {},
   "outputs": [
    {
     "name": "stdout",
     "output_type": "stream",
     "text": [
      "[[0.18976911 0.50064284 0.18848334 0.07350747]\n",
      " [0.43221259 0.57415552 0.05382927 0.69702239]\n",
      " [0.99613342 0.55178267 0.79533829 0.40080497]]\n"
     ]
    }
   ],
   "source": [
    "import numpy as np\n",
    "a = np.random.rand(3,4)\n",
    "print(a)"
   ]
  },
  {
   "cell_type": "markdown",
   "metadata": {},
   "source": [
    "2. Create a 1-dimensional array of 12 sequential numbers and convert it to a 4x3 array."
   ]
  },
  {
   "cell_type": "code",
   "execution_count": 713,
   "metadata": {},
   "outputs": [
    {
     "name": "stdout",
     "output_type": "stream",
     "text": [
      "1d array\n",
      "[ 1  2  3  4  5  6  7  8  9 10 11 12]\n",
      "4x3 matrix\n",
      "[[ 1  2  3]\n",
      " [ 4  5  6]\n",
      " [ 7  8  9]\n",
      " [10 11 12]]\n"
     ]
    }
   ],
   "source": [
    "import numpy as np\n",
    "a = np.arange(1,13)\n",
    "print(\"1d array\")\n",
    "print(a)\n",
    "b = a.reshape(4, 3)\n",
    "print(\"4x3 matrix\")\n",
    "print(b)"
   ]
  },
  {
   "cell_type": "markdown",
   "metadata": {},
   "source": [
    "3. Write a function that creates an incremental array of dimension (1,n) with values between 0 and 1. Use arr.shape to verify"
   ]
  },
  {
   "cell_type": "code",
   "execution_count": 714,
   "metadata": {},
   "outputs": [
    {
     "name": "stdout",
     "output_type": "stream",
     "text": [
      "[[0.         0.07142857 0.14285714 0.21428571 0.28571429 0.35714286\n",
      "  0.42857143 0.5        0.57142857 0.64285714 0.71428571 0.78571429\n",
      "  0.85714286 0.92857143 1.        ]]\n"
     ]
    },
    {
     "data": {
      "text/plain": [
       "(1, 15)"
      ]
     },
     "execution_count": 714,
     "metadata": {},
     "output_type": "execute_result"
    }
   ],
   "source": [
    "def a_very_usefull_function(n):\n",
    "    return np.full((1,n), np.linspace(0,1,n))\n",
    "a = a_very_usefull_function(15)\n",
    "print(a)\n",
    "a.shape"
   ]
  },
  {
   "cell_type": "markdown",
   "metadata": {},
   "source": [
    "4. Generate a 10x12 array and extract row 0-4 of columns 8-12."
   ]
  },
  {
   "cell_type": "code",
   "execution_count": 715,
   "metadata": {
    "scrolled": true
   },
   "outputs": [
    {
     "name": "stdout",
     "output_type": "stream",
     "text": [
      "full matrix\n",
      "[[ 0.  1.  2.  3.  4.  5.  6.  7.  8.  9. 10. 11.]\n",
      " [ 0.  1.  2.  3.  4.  5.  6.  7.  8.  9. 10. 11.]\n",
      " [ 0.  1.  2.  3.  4.  5.  6.  7.  8.  9. 10. 11.]\n",
      " [ 0.  1.  2.  3.  4.  5.  6.  7.  8.  9. 10. 11.]\n",
      " [ 0.  1.  2.  3.  4.  5.  6.  7.  8.  9. 10. 11.]\n",
      " [ 0.  1.  2.  3.  4.  5.  6.  7.  8.  9. 10. 11.]\n",
      " [ 0.  1.  2.  3.  4.  5.  6.  7.  8.  9. 10. 11.]\n",
      " [ 0.  1.  2.  3.  4.  5.  6.  7.  8.  9. 10. 11.]\n",
      " [ 0.  1.  2.  3.  4.  5.  6.  7.  8.  9. 10. 11.]\n",
      " [ 0.  1.  2.  3.  4.  5.  6.  7.  8.  9. 10. 11.]]\n",
      "sub matrix\n",
      "[[ 8.  9. 10. 11.]\n",
      " [ 8.  9. 10. 11.]\n",
      " [ 8.  9. 10. 11.]\n",
      " [ 8.  9. 10. 11.]]\n"
     ]
    }
   ],
   "source": [
    "a = np.full((10,12), np.linspace(0,11,12))\n",
    "print(\"full matrix\")\n",
    "print(a)\n",
    "#grab by slices rows 0-4 col 8 9 10 && 11\n",
    "b = a[0:4:1, [8,9,10,11]]\n",
    "print(\"sub matrix\")\n",
    "print(b)"
   ]
  },
  {
   "cell_type": "markdown",
   "metadata": {},
   "source": [
    "5. Using the function in Q3, get m vectors and bind them together (to have a m x n) matrix.\n",
    "Plot the matrix with matplotlib’s imshow"
   ]
  },
  {
   "cell_type": "code",
   "execution_count": 716,
   "metadata": {
    "scrolled": true
   },
   "outputs": [
    {
     "name": "stdout",
     "output_type": "stream",
     "text": [
      "[[0.         0.01010101 0.02020202 ... 0.97979798 0.98989899 1.        ]\n",
      " [0.         0.01010101 0.02020202 ... 0.97979798 0.98989899 1.        ]\n",
      " [0.         0.01010101 0.02020202 ... 0.97979798 0.98989899 1.        ]\n",
      " ...\n",
      " [0.         0.01010101 0.02020202 ... 0.97979798 0.98989899 1.        ]\n",
      " [0.         0.01010101 0.02020202 ... 0.97979798 0.98989899 1.        ]\n",
      " [0.         0.01010101 0.02020202 ... 0.97979798 0.98989899 1.        ]]\n"
     ]
    },
    {
     "data": {
      "text/plain": [
       "<matplotlib.image.AxesImage at 0x7f73a12c33c8>"
      ]
     },
     "execution_count": 716,
     "metadata": {},
     "output_type": "execute_result"
    },
    {
     "data": {
      "image/png": "[encoded data removed]",
      "text/plain": [
       "<Figure size 432x288 with 1 Axes>"
      ]
     },
     "metadata": {
      "needs_background": "light"
     },
     "output_type": "display_data"
    }
   ],
   "source": [
    "#what question wants\n",
    "import matplotlib.pyplot as plot\n",
    "size_1 = 100;\n",
    "size_2 = 100;\n",
    "a = np.full((size_1,size_2), a_very_usefull_function((size_1)))\n",
    "a_plot = np.matrix(a)\n",
    "print(a_plot)\n",
    "plot.imshow(a_plot)\n"
   ]
  },
  {
   "cell_type": "code",
   "execution_count": 717,
   "metadata": {},
   "outputs": [
    {
     "name": "stdout",
     "output_type": "stream",
     "text": [
      "[[0.00000000e+00 9.97008973e-04 1.99401795e-03 ... 9.98005982e-01\n",
      "  9.99002991e-01 1.00000000e+00]\n",
      " [0.00000000e+00 9.97008973e-04 1.99401795e-03 ... 9.98005982e-01\n",
      "  9.99002991e-01 1.00000000e+00]\n",
      " [0.00000000e+00 9.97008973e-04 1.99401795e-03 ... 9.98005982e-01\n",
      "  9.99002991e-01 1.00000000e+00]\n",
      " ...\n",
      " [0.00000000e+00 9.97008973e-04 1.99401795e-03 ... 9.98005982e-01\n",
      "  9.99002991e-01 1.00000000e+00]\n",
      " [0.00000000e+00 9.97008973e-04 1.99401795e-03 ... 9.98005982e-01\n",
      "  9.99002991e-01 1.00000000e+00]\n",
      " [0.00000000e+00 9.97008973e-04 1.99401795e-03 ... 9.98005982e-01\n",
      "  9.99002991e-01 1.00000000e+00]]\n",
      "[[0.00000000e+00 9.97008973e-04 1.99401795e-03 ... 9.98005982e-01\n",
      "  9.99002991e-01 1.00000000e+00]\n",
      " [0.00000000e+00 9.97008973e-04 1.99401795e-03 ... 9.98005982e-01\n",
      "  9.99002991e-01 1.00000000e+00]\n",
      " [0.00000000e+00 9.97008973e-04 1.99401795e-03 ... 9.98005982e-01\n",
      "  9.99002991e-01 1.00000000e+00]\n",
      " ...\n",
      " [0.00000000e+00 9.97008973e-04 1.99401795e-03 ... 9.98005982e-01\n",
      "  9.99002991e-01 1.00000000e+00]\n",
      " [0.00000000e+00 9.97008973e-04 1.99401795e-03 ... 9.98005982e-01\n",
      "  9.99002991e-01 1.00000000e+00]\n",
      " [0.00000000e+00 9.97008973e-04 1.99401795e-03 ... 9.98005982e-01\n",
      "  9.99002991e-01 1.00000000e+00]]\n"
     ]
    },
    {
     "data": {
      "text/plain": [
       "<matplotlib.image.AxesImage at 0x7f73a1210ef0>"
      ]
     },
     "execution_count": 717,
     "metadata": {},
     "output_type": "execute_result"
    },
    {
     "data": {
      "image/png": "[encoded data removed]",
      "text/plain": [
       "<Figure size 432x288 with 1 Axes>"
      ]
     },
     "metadata": {
      "needs_background": "light"
     },
     "output_type": "display_data"
    }
   ],
   "source": [
    "#so i can learn\n",
    "size_2 = 1004\n",
    "#c = np.full((size_1), a_very_usefull_function((size_1)))\n",
    "#d = np.full((size_2), a_very_usefull_function((size_2)))\n",
    "#c.resize(d.shape)# if (c < d) else d.resize(c.shape)\n",
    "e = np.full((size_1,size_2), a_very_usefull_function((size_2)))\n",
    "print(e)\n",
    "#print(c)\n",
    "#print(d)\n",
    "print(e)\n",
    "e_plot = np.matrix(e)\n",
    "#e_plot = np.matrix(e);\n",
    "plot.imshow(e_plot)"
   ]
  },
  {
   "cell_type": "markdown",
   "metadata": {},
   "source": [
    "6. Multiply the resulting matrix from Q5 with the matrix of a picture of your choice.\n",
    "Plot the resulting matrix."
   ]
  },
  {
   "cell_type": "code",
   "execution_count": 718,
   "metadata": {
    "scrolled": true
   },
   "outputs": [
    {
     "name": "stdout",
     "output_type": "stream",
     "text": [
      "base image\n"
     ]
    },
    {
     "data": {
      "text/plain": [
       "<matplotlib.image.AxesImage at 0x7f73a11e39e8>"
      ]
     },
     "execution_count": 718,
     "metadata": {},
     "output_type": "execute_result"
    },
    {
     "data": {
      "image/png": "[encoded data removed]",
      "text/plain": [
       "<Figure size 432x288 with 1 Axes>"
      ]
     },
     "metadata": {
      "needs_background": "light"
     },
     "output_type": "display_data"
    }
   ],
   "source": [
    "#imread nativly works with .png , change to handle more extensions ?\n",
    "img = plot.imread(\"test.png\")\n",
    "print(\"base image\")\n",
    "plot.imshow(img)\n"
   ]
  },
  {
   "cell_type": "code",
   "execution_count": 719,
   "metadata": {},
   "outputs": [
    {
     "name": "stdout",
     "output_type": "stream",
     "text": [
      "new image\n"
     ]
    },
    {
     "data": {
      "text/plain": [
       "<matplotlib.image.AxesImage at 0x7f73a11c1518>"
      ]
     },
     "execution_count": 719,
     "metadata": {},
     "output_type": "execute_result"
    },
    {
     "data": {
      "image/png": "[encoded data removed]",
      "text/plain": [
       "<Figure size 432x288 with 1 Axes>"
      ]
     },
     "metadata": {
      "needs_background": "light"
     },
     "output_type": "display_data"
    }
   ],
   "source": [
    "# so the broadcasting (matrix operators) are compatible when\n",
    "#they are equal, or\n",
    "#one of them is 1\n",
    "\n",
    "#this requires the shapes of the two to be the same\n",
    "#so you have to tailer the matrix to the img dimensions\n",
    "#0 - 3 axis because rgba\n",
    "for i in range(0, 4):\n",
    "    img[:,:,i] *= a_plot\n",
    "print(\"new image\")\n",
    "plot.imshow(img)"
   ]
  },
  {
   "cell_type": "markdown",
   "metadata": {},
   "source": [
    "    Part 2: The fun part  *Filters.\n",
    "Image editing / processing is done by changing the values of the matrix (pixel by pixel).\n",
    "In this section you will code FOUR (non-grayscale) commonly used image filters.\n",
    "Filters to choose from:\n",
    "• Amaro  \n",
    "• Mayfair  \n",
    "• Rise  \n",
    "• Hudson  \n",
    "• Valencia  \n",
    "• X-Pro II  \n",
    "• Nashville  \n",
    "• Lo-Fi  \n",
    "• Sierra  \n",
    "• Earlybird  \n",
    "• Sutro  \n",
    "• Toaster  "
   ]
  },
  {
   "cell_type": "code",
   "execution_count": 720,
   "metadata": {},
   "outputs": [],
   "source": [
    "# first we want to make a suite of generic helper functions to be reused\n",
    "\n",
    "#todo -\n",
    "# change the mat_* functions to not use for loops cause they're really slow in python\n",
    "\n",
    "#these should take the img (a) the mask (b) and the y/x limits of the img\n",
    "#always compares a to b\n",
    "def mat_add(a,b,lim1,lim2):\n",
    "    # new array with the y/x dimensions of the input img\n",
    "    ret = np.zeros((a.shape[0],a.shape[1]))\n",
    "    for i in range(0,lim1):\n",
    "        for j in range(0,lim2):\n",
    "            ret[i][j] = a[i][j] + b[i][j]\n",
    "            j = j + 1\n",
    "        i = i + 1\n",
    "    return (ret)\n",
    "def mat_dif(a,b,lim1,lim2):\n",
    "    # new array with the y/x dimensions of the input img\n",
    "    ret = np.zeros((a.shape[0],a.shape[1]))\n",
    "    for i in range(0,lim1):\n",
    "        for j in range(0,lim2):\n",
    "            ret[i][j] = a[i][j] - b[i][j]\n",
    "            j = j + 1\n",
    "        i = i + 1\n",
    "    return (ret)\n",
    "def mat_mult(a,b,lim1,lim2):\n",
    "    # new array with the y/x dimensions of the input img\n",
    "    ret = np.zeros((a.shape[0],a.shape[1]))\n",
    "    for i in range(0,lim1):\n",
    "        for j in range(0,lim2):\n",
    "            ret[i][j] = a[i][j] * b[i][j]\n",
    "            j = j + 1\n",
    "        i = i + 1\n",
    "    return (ret)\n",
    "#throws runtime warnings\n",
    "def mat_div(a,b,lim1,lim2):\n",
    "    # new array with the y/x dimensions of the input img\n",
    "    ret = np.zeros((a.shape[0],a.shape[1]))\n",
    "    for i in range(0,lim1):\n",
    "        for j in range(0,lim2):\n",
    "            ret[i][j] = a[i][j] / b[i][j]\n",
    "            j = j + 1\n",
    "        i = i + 1\n",
    "    return (ret)\n",
    "#throws runtime warnings\n",
    "def mat_mod(a,b,lim1,lim2):\n",
    "    # new array with the y/x dimensions of the input img\n",
    "    ret = np.zeros((a.shape[0],a.shape[1]))\n",
    "    for i in range(0,lim1):\n",
    "        for j in range(0,lim2):\n",
    "            ret[i][j] = a[i][j] % b[i][j]\n",
    "            j = j + 1\n",
    "        i = i + 1\n",
    "    return (ret)\n",
    "#split and merge rgb values\n",
    "#i love being able to return multiple things\n",
    "def split_rgb(img):\n",
    "    img_R = img[:,:,0]\n",
    "    img_G = img[:,:,1]\n",
    "    img_B = img[:,:,2]\n",
    "    return img_R,img_G,img_B\n",
    "def merge_rgb(img_R,img_G,img_B):\n",
    "    #axis is 2 because we split like this img_R = img[:,:,0]\n",
    "    ret = np.stack([img_R,img_G,img_B],axis=2)\n",
    "    return ret\n",
    "#protect against clipping warning message\n",
    "#mayber redundent?\n",
    "def lim_for_uint8(img_R,img_G,img_B):\n",
    "    lim1 = img_R.shape[0]\n",
    "    lim2 = img_R.shape[1]\n",
    "    for i in range(0,lim1):\n",
    "        for j in range(0,lim2):\n",
    "            if (img_R[i][j] > 255):\n",
    "                img_R[i][j] = 255\n",
    "            if (img_G[i][j] > 255):\n",
    "                img_G[i][j] = 255\n",
    "            if (img_B[i][j] > 255):\n",
    "                img_B[i][j] = 255\n",
    "            j = j + 1\n",
    "        i = i + 1\n",
    "    return (img_R,img_G,img_B)\n",
    "#put image\n",
    "def out_img_RGB(r,g,b):\n",
    "    r,g,b = lim_for_uint8(r,g,b)\n",
    "    tmp = merge_rgb(r,g,b)\n",
    "    output_img(tmp)\n",
    "def output_img(img):\n",
    "    plot.axis('off')\n",
    "    plot.imshow((img * 255).astype(np.uint8),interpolation=\"none\",)\n",
    "    #plot.imshow(img)    tmp = merge_rgb(r,g,b)"
   ]
  },
  {
   "cell_type": "markdown",
   "metadata": {},
   "source": [
    "    Test masks:\n",
    "mostly to understand how the image is actually stored"
   ]
  },
  {
   "cell_type": "code",
   "execution_count": 721,
   "metadata": {
    "scrolled": true
   },
   "outputs": [
    {
     "data": {
      "text/plain": [
       "<matplotlib.image.AxesImage at 0x7f73a1156390>"
      ]
     },
     "execution_count": 721,
     "metadata": {},
     "output_type": "execute_result"
    },
    {
     "data": {
      "image/png": "[encoded data removed]",
      "text/plain": [
       "<Figure size 432x288 with 1 Axes>"
      ]
     },
     "metadata": {
      "needs_background": "light"
     },
     "output_type": "display_data"
    }
   ],
   "source": [
    "img = plot.imread(\"flamingo.png\")\n",
    "plot.axis('off')\n",
    "plot.imshow(img)"
   ]
  },
  {
   "cell_type": "code",
   "execution_count": 722,
   "metadata": {
    "scrolled": false
   },
   "outputs": [],
   "source": [
    "#im sure the reason it loses the whitespace is something really dumb\n",
    "def test_mask_add(img):\n",
    "    r,g,b = split_rgb(img)\n",
    "    #output_img(img)\n",
    "    #this is pretty bad and im not sure why it changes all the outer white to black\n",
    "    b = mat_add(b,b,b.shape[0],b.shape[1])\n",
    "    #tmp = merge_rgb(r, g, b)\n",
    "    #output_img(tmp)\n",
    "    #tmp = merge_rgb(r, g, b)\n",
    "    out_img_RGB(r,g,b)\n",
    "    return\n",
    "\n",
    "#test_mask_add(img)"
   ]
  },
  {
   "cell_type": "code",
   "execution_count": 723,
   "metadata": {},
   "outputs": [],
   "source": [
    "def test_mask_mul(img):\n",
    "    r,g,b = split_rgb(img)\n",
    "    r = mat_mult(r,r,r.shape[0],r.shape[1])\n",
    "    out_img_RGB(r,g,b)\n",
    "    return\n",
    "#test_mask_mul(img)"
   ]
  },
  {
   "cell_type": "code",
   "execution_count": 724,
   "metadata": {},
   "outputs": [],
   "source": [
    "def test_mask_div(img):\n",
    "    r,g,b = split_rgb(img)\n",
    "    r = mat_div(r,r,r.shape[0],r.shape[1])\n",
    "    out_img_RGB(r,g,b)\n",
    "    return\n",
    "#test_mask_div(img)"
   ]
  },
  {
   "cell_type": "code",
   "execution_count": 725,
   "metadata": {},
   "outputs": [],
   "source": [
    "def test_mask_mod(img):\n",
    "    r,g,b = split_rgb(img)\n",
    "    r = mat_mod(r,r,r.shape[0],r.shape[1])\n",
    "    out_img_RGB(r,g,b)\n",
    "    return\n",
    "#test_mask_mod(img)"
   ]
  },
  {
   "cell_type": "code",
   "execution_count": 726,
   "metadata": {},
   "outputs": [],
   "source": [
    "def mesh_grid_mult(a,mg,mul_in,mul_out):\n",
    "    for i in range(0,a.shape[0]):\n",
    "        for j in range(0,a.shape[1]):\n",
    "            if (mg[i][j] and a[i][j] ):\n",
    "                a[i][j] *= mul_in\n",
    "            else:\n",
    "                a[i][j] *= mul_out\n",
    "            j = j + 1\n",
    "        i = i + 1\n",
    "    return a\n",
    "#corners are bright and gets darker towards the inner mesh\n",
    "def mesh_grid_mult_darken_from_corner_mul(a,mg,mul_in,mul_out):\n",
    "    tmpy = a.shape[0]\n",
    "    tmpx = a.shape[1]\n",
    "    toggle_x = 0\n",
    "    toggle_y = 0\n",
    "\n",
    "    for i in range(0,a.shape[0]):\n",
    "        if (i == tmpy / 2):\n",
    "            toggle_y = 1\n",
    "        toggle_x = 0\n",
    "        for j in range(0,a.shape[1]):\n",
    "            if (mg[i][j] and a[i][j] ):\n",
    "                a[i][j] *= mul_in\n",
    "            else:#could use a switch case but overkill\n",
    "                if (not toggle_x and j >= (tmpx / 2)):\n",
    "                    toggle_x = 1\n",
    "                if (not toggle_x and not toggle_y):\n",
    "                    a[i][j] *= (mul_out * (1 - ((j / (tmpx)) + ((i / (tmpy))))))\n",
    "                elif (toggle_x and not toggle_y):\n",
    "                    a[i][j] *= (mul_out * (1 - ((1 - (j / (tmpx))) + ((i / (tmpy))))))\n",
    "                elif (not toggle_x and toggle_y):\n",
    "                    a[i][j] *= (mul_out * (1 - ((j / (tmpx)) + (1 - (i / (tmpy))))))\n",
    "                elif (toggle_x and toggle_y):\n",
    "                    a[i][j] *= (mul_out * (1 - (((1 - (j / tmpx)) + (1 - (i / (tmpy)))))))\n",
    "                else:\n",
    "                    a[i][j] *= mul_out\n",
    "            j = j + 1\n",
    "        i = i + 1\n",
    "    return a\n",
    "def mesh_grid_mult_darken_to_corner_mul(a,mg,mul_in,mul_out):\n",
    "    tmpy = a.shape[0]\n",
    "    tmpx = a.shape[1]\n",
    "    toggle_x = 0\n",
    "    toggle_y = 0\n",
    "\n",
    "    for i in range(0,a.shape[0]):\n",
    "        if (i == tmpy / 2):\n",
    "            toggle_y = 1\n",
    "        toggle_x = 0\n",
    "        for j in range(0,a.shape[1]):\n",
    "            if (mg[i][j] and a[i][j] ):\n",
    "                a[i][j] *= mul_in\n",
    "            else:#could use a switch case but overkill\n",
    "                if (not toggle_x and j >= (tmpx / 2)):\n",
    "                    toggle_x = 1\n",
    "                if (not toggle_x and not toggle_y):\n",
    "                    a[i][j] *= (mul_out * (((j / (tmpx)) + ((i / (tmpy))))))\n",
    "                elif (toggle_x and not toggle_y):\n",
    "                    a[i][j] *= (mul_out * (((1 - (j / (tmpx))) + ((i / (tmpy))))))\n",
    "                elif (not toggle_x and toggle_y):\n",
    "                    a[i][j] *= (mul_out * (((j / (tmpx)) + (1 - (i / (tmpy))))))\n",
    "                elif (toggle_x and toggle_y):\n",
    "                    a[i][j] *= (mul_out * ((((1 - (j / tmpx)) + (1 - (i / (tmpy)))))))\n",
    "                else:\n",
    "                    a[i][j] *= mul_out\n",
    "            j = j + 1\n",
    "        i = i + 1\n",
    "    return a"
   ]
  },
  {
   "cell_type": "code",
   "execution_count": 727,
   "metadata": {},
   "outputs": [],
   "source": [
    "#this is pulled from above and i don't feel like changing the var names\n",
    "def mesh_grid_add(a,mg,mul_in,mul_out):\n",
    "    for i in range(0,a.shape[0]):\n",
    "        for j in range(0,a.shape[1]):\n",
    "            if (mg[i][j] and a[i][j] ):\n",
    "                a[i][j] += mul_in\n",
    "            else:\n",
    "                a[i][j] += mul_out\n",
    "            j = j + 1\n",
    "        i = i + 1\n",
    "    return a\n",
    "#corners are bright and gets darker towards the inner mesh\n",
    "def mesh_grid_mult_darken_from_corner_add(a,mg,mul_in,mul_out):\n",
    "    tmpy = a.shape[0]\n",
    "    tmpx = a.shape[1]\n",
    "    toggle_x = 0\n",
    "    toggle_y = 0\n",
    "\n",
    "    for i in range(0,a.shape[0]):\n",
    "        if (i == tmpy / 2):\n",
    "            toggle_y = 1\n",
    "        toggle_x = 0\n",
    "        for j in range(0,a.shape[1]):\n",
    "            if (mg[i][j] and a[i][j] ):\n",
    "                a[i][j] *= mul_in\n",
    "            else:#could use a switch case but overkill\n",
    "                if (not toggle_x and j >= (tmpx / 2)):\n",
    "                    toggle_x = 1\n",
    "                if (not toggle_x and not toggle_y):\n",
    "                    a[i][j] += (mul_out * (1 - ((j / (tmpx)) + ((i / (tmpy))))))\n",
    "                elif (toggle_x and not toggle_y):\n",
    "                    a[i][j] += (mul_out * (1 - ((1 - (j / (tmpx))) + ((i / (tmpy))))))\n",
    "                elif (not toggle_x and toggle_y):\n",
    "                    a[i][j] += (mul_out * (1 - ((j / (tmpx)) + (1 - (i / (tmpy))))))\n",
    "                elif (toggle_x and toggle_y):\n",
    "                    a[i][j] += (mul_out * (1 - (((1 - (j / tmpx)) + (1 - (i / (tmpy)))))))\n",
    "                else:\n",
    "                    a[i][j] += mul_out\n",
    "            j = j + 1\n",
    "        i = i + 1\n",
    "    return a\n",
    "def mesh_grid_mult_darken_to_corner_add(a,mg,mul_in,mul_out):\n",
    "    tmpy = a.shape[0]\n",
    "    tmpx = a.shape[1]\n",
    "    toggle_x = 0\n",
    "    toggle_y = 0\n",
    "\n",
    "    for i in range(0,a.shape[0]):\n",
    "        if (i == tmpy / 2):\n",
    "            toggle_y = 1\n",
    "        toggle_x = 0\n",
    "        for j in range(0,a.shape[1]):\n",
    "            if (mg[i][j] and a[i][j] ):\n",
    "                a[i][j] *= mul_in\n",
    "            else:#could use a switch case but overkill\n",
    "                if (not toggle_x and j >= (tmpx / 2)):\n",
    "                    toggle_x = 1\n",
    "                if (not toggle_x and not toggle_y):\n",
    "                    a[i][j] += (mul_out * (((j / (tmpx)) + ((i / (tmpy))))))\n",
    "                elif (toggle_x and not toggle_y):\n",
    "                    a[i][j] += (mul_out * (((1 - (j / (tmpx))) + ((i / (tmpy))))))\n",
    "                elif (not toggle_x and toggle_y):\n",
    "                    a[i][j] += (mul_out * (((j / (tmpx)) + (1 - (i / (tmpy))))))\n",
    "                elif (toggle_x and toggle_y):\n",
    "                    a[i][j] += (mul_out * ((((1 - (j / tmpx)) + (1 - (i / (tmpy)))))))\n",
    "                else:\n",
    "                    a[i][j] += mul_out\n",
    "            j = j + 1\n",
    "        i = i + 1\n",
    "    return a"
   ]
  },
  {
   "cell_type": "code",
   "execution_count": 728,
   "metadata": {},
   "outputs": [],
   "source": [
    "#makes the circle mask to get the whole image just square the .shape[] in the circle compute\n",
    "#the actual circle mesh is a grid the same size as the image with each pos as a boolean\n",
    "# params::\n",
    "    #r,g,b the color matrixs\n",
    "    #r_in,r_out ... the multiplyer for each color for inside the circle mesh\n",
    "def inner_circle_mask(r,g,b,r_in,r_out,g_in,g_out,b_in,b_out,opt,mode):\n",
    "    xx,yy = np.mgrid[:r.shape[0],:r.shape[1]]\n",
    "    circle = (xx - r.shape[1]/2) ** 2 + (yy - r.shape[0]/2) ** 2\n",
    "    circle = np.logical_and(circle < (r.shape[0] ** 1.6), circle < (r.shape[1] ** 1.6))\n",
    "    for i in range(0,r.shape[0]):\n",
    "        for j in range(0,r.shape[1]):\n",
    "            if (circle[i][j]):\n",
    "                circle[i][j] = 1\n",
    "            else:\n",
    "                circle[i][j] = 0\n",
    "            j += 1\n",
    "        i += 1\n",
    "    if (mode == 0):#add\n",
    "        if (opt == 1):\n",
    "            r = mesh_grid_mult_darken_from_corner_add(r,circle,r_in,r_out)\n",
    "            g = mesh_grid_mult_darken_from_corner_add(g,circle,g_in,g_out)\n",
    "            b = mesh_grid_mult_darken_from_corner_add(b,circle,b_in,b_out)\n",
    "        elif (opt == 2):\n",
    "            r = mesh_grid_mult_darken_to_corner_add(r,circle,r_in,r_out)\n",
    "            g = mesh_grid_mult_darken_to_corner_add(g,circle,g_in,g_out)\n",
    "            b = mesh_grid_mult_darken_to_corner_add(b,circle,b_in,b_out)\n",
    "        else:\n",
    "            r = mesh_grid_add(r,circle,r_in,r_out)\n",
    "            g = mesh_grid_add(g,circle,g_in,g_out)\n",
    "            b = mesh_grid_add(b,circle,b_in,b_out)\n",
    "    elif (mode == 1):#mult\n",
    "        if (opt == 1):\n",
    "            r = mesh_grid_mult_darken_from_corner_mul(r,circle,r_in,r_out)\n",
    "            g = mesh_grid_mult_darken_from_corner_mul(g,circle,g_in,g_out)\n",
    "            b = mesh_grid_mult_darken_from_corner_mul(b,circle,b_in,b_out)\n",
    "        elif (opt == 2):\n",
    "            r = mesh_grid_mult_darken_to_corner_mul(r,circle,r_in,r_out)\n",
    "            g = mesh_grid_mult_darken_to_corner_mul(g,circle,g_in,g_out)\n",
    "            b = mesh_grid_mult_darken_to_corner_mul(b,circle,b_in,b_out)\n",
    "        else:\n",
    "            r = mesh_grid_mult(r,circle,r_in,r_out)\n",
    "            g = mesh_grid_mult(g,circle,g_in,g_out)\n",
    "            b = mesh_grid_mult(b,circle,b_in,b_out)\n",
    "   # r = mat_mult(r,circle,r.shape[0],r.shape[1])\n",
    "   # g = mat_mult(g,circle,g.shape[0],g.shape[1])\n",
    "   # b = mat_mult(b,circle,b.shape[0],b.shape[1])\n",
    "    return r,g,b\n"
   ]
  },
  {
   "cell_type": "code",
   "execution_count": 729,
   "metadata": {},
   "outputs": [
    {
     "data": {
      "image/png": "[encoded data removed]",
      "text/plain": [
       "<Figure size 432x288 with 1 Axes>"
      ]
     },
     "metadata": {
      "needs_background": "light"
     },
     "output_type": "display_data"
    }
   ],
   "source": [
    "#once you have the functions to make the filter meshes you can plug in\n",
    "#  whatever values you want ,\n",
    "#  this is usefull  because a lot og the filters do something to the center\n",
    "#  of the photo and something else to the edges of the photo\n",
    "# the basic rundown is split the rgb color streams\n",
    "    #apply the mask to each color stream seperately\n",
    "    #output the img\n",
    "NO_SHAPE_FILTER = 0\n",
    "FROM_CORNER = 1\n",
    "TO_CORNER = 2\n",
    "ADD_MODE = 0\n",
    "MUL_MODE = 1\n",
    "\n",
    "def test_inner_circle_mask(img):\n",
    "    r,g,b = split_rgb(img)\n",
    "    r,g,b = inner_circle_mask(r,g,b,1,1,1,1,1,1,FROM_CORNER,MUL_MODE)\n",
    "    out_img_RGB(r,g,b)\n",
    "    return\n",
    "test_inner_circle_mask(img) "
   ]
  },
  {
   "cell_type": "code",
   "execution_count": 730,
   "metadata": {},
   "outputs": [
    {
     "data": {
      "image/png": "[encoded data removed]",
      "text/plain": [
       "<Figure size 432x288 with 1 Axes>"
      ]
     },
     "metadata": {
      "needs_background": "light"
     },
     "output_type": "display_data"
    }
   ],
   "source": [
    "#testing the darken_to corner\n",
    "img = plot.imread(\"flamingo.png\")\n",
    "def test_inner_circle_mask_2(img):\n",
    "    r,g,b = split_rgb(img)\n",
    "    r,g,b = inner_circle_mask(r,g,b,1,.7,1,.7,1,.7,TO_CORNER,MUL_MODE)\n",
    "    out_img_RGB(r,g,b)\n",
    "    return\n",
    "test_inner_circle_mask_2(img) "
   ]
  },
  {
   "cell_type": "markdown",
   "metadata": {},
   "source": [
    "*Now for the actual filters*"
   ]
  },
  {
   "cell_type": "code",
   "execution_count": 731,
   "metadata": {},
   "outputs": [
    {
     "data": {
      "image/png": "[encoded data removed]",
      "text/plain": [
       "<Figure size 432x288 with 1 Axes>"
      ]
     },
     "metadata": {
      "needs_background": "light"
     },
     "output_type": "display_data"
    }
   ],
   "source": [
    "#the base image\n",
    "def display_base():\n",
    "    img = plot.imread(\"test.png\")\n",
    "    r,g,b = split_rgb(img)\n",
    "    out_img_RGB(r,g,b)\n",
    "    return\n",
    "display_base()"
   ]
  },
  {
   "cell_type": "code",
   "execution_count": 732,
   "metadata": {
    "scrolled": true
   },
   "outputs": [
    {
     "data": {
      "image/png": "[encoded data removed]",
      "text/plain": [
       "<Figure size 432x288 with 1 Axes>"
      ]
     },
     "metadata": {
      "needs_background": "light"
     },
     "output_type": "display_data"
    }
   ],
   "source": [
    "#rise is just adding yellow tones\n",
    "#base yellow is 1:1 r:g\n",
    "img = plot.imread(\"test.png\")\n",
    "def filter_rise(img):\n",
    "    r,g,b = split_rgb(img)\n",
    "    r,g,b = inner_circle_mask(r,g,b,1,1,1,1,0,0,NO_SHAPE_FILTER,ADD_MODE)\n",
    "    out_img_RGB(r,g,b)\n",
    "    return\n",
    "filter_rise(img) "
   ]
  },
  {
   "cell_type": "code",
   "execution_count": null,
   "metadata": {},
   "outputs": [],
   "source": []
  }
 ],
 "metadata": {
  "kernelspec": {
   "display_name": "Python 3",
   "language": "python",
   "name": "python3"
  },
  "language_info": {
   "codemirror_mode": {
    "name": "ipython",
    "version": 3
   },
   "file_extension": ".py",
   "mimetype": "text/x-python",
   "name": "python",
   "nbconvert_exporter": "python",
   "pygments_lexer": "ipython3",
   "version": "3.6.3"
  }
 },
 "nbformat": 4,
 "nbformat_minor": 2
}
