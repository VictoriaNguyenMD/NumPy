{
 "cells": [
  {
   "cell_type": "code",
   "execution_count": 494,
   "metadata": {},
   "outputs": [
    {
     "ename": "SyntaxError",
     "evalue": "invalid syntax (<ipython-input-494-ca79f47bcd5c>, line 1)",
     "output_type": "error",
     "traceback": [
      "\u001b[0;36m  File \u001b[0;32m\"<ipython-input-494-ca79f47bcd5c>\"\u001b[0;36m, line \u001b[0;32m1\u001b[0m\n\u001b[0;31m    Authors: jtyalor && vinguyen\u001b[0m\n\u001b[0m                      ^\u001b[0m\n\u001b[0;31mSyntaxError\u001b[0m\u001b[0;31m:\u001b[0m invalid syntax\n"
     ]
    }
   ],
   "source": [
    "    Authors: jtyalor && vinguyen"
   ]
  },
  {
   "cell_type": "markdown",
   "metadata": {},
   "source": [
    "#import numpy as np"
   ]
  },
  {
   "cell_type": "markdown",
   "metadata": {},
   "source": [
    "1. Create a matrix of random values of a distribution of your choice."
   ]
  },
  {
   "cell_type": "code",
   "execution_count": 495,
   "metadata": {},
   "outputs": [
    {
     "name": "stdout",
     "output_type": "stream",
     "text": [
      "[[0.48551227 0.8527152  0.05797338 0.99466878]\n",
      " [0.69079594 0.97548881 0.18833304 0.68558117]\n",
      " [0.12295083 0.48597978 0.52186319 0.12710156]]\n"
     ]
    }
   ],
   "source": [
    "import numpy as np\n",
    "a = np.random.rand(3,4)\n",
    "print(a)"
   ]
  },
  {
   "cell_type": "markdown",
   "metadata": {},
   "source": [
    "2. Create a 1-dimensional array of 12 sequential numbers and convert it to a 4x3 array."
   ]
  },
  {
   "cell_type": "code",
   "execution_count": 496,
   "metadata": {},
   "outputs": [
    {
     "name": "stdout",
     "output_type": "stream",
     "text": [
      "1d array\n",
      "[ 1  2  3  4  5  6  7  8  9 10 11 12]\n",
      "4x3 matrix\n",
      "[[ 1  2  3]\n",
      " [ 4  5  6]\n",
      " [ 7  8  9]\n",
      " [10 11 12]]\n"
     ]
    }
   ],
   "source": [
    "import numpy as np\n",
    "a = np.arange(1,13)\n",
    "print(\"1d array\")\n",
    "print(a)\n",
    "b = a.reshape(4, 3)\n",
    "print(\"4x3 matrix\")\n",
    "print(b)"
   ]
  },
  {
   "cell_type": "markdown",
   "metadata": {},
   "source": [
    "3. Write a function that creates an incremental array of dimension (1,n) with values between 0 and 1. Use arr.shape to verify"
   ]
  },
  {
   "cell_type": "code",
   "execution_count": 497,
   "metadata": {},
   "outputs": [
    {
     "name": "stdout",
     "output_type": "stream",
     "text": [
      "[[0.         0.07142857 0.14285714 0.21428571 0.28571429 0.35714286\n",
      "  0.42857143 0.5        0.57142857 0.64285714 0.71428571 0.78571429\n",
      "  0.85714286 0.92857143 1.        ]]\n"
     ]
    },
    {
     "data": {
      "text/plain": [
       "(1, 15)"
      ]
     },
     "execution_count": 497,
     "metadata": {},
     "output_type": "execute_result"
    }
   ],
   "source": [
    "def a_very_usefull_function(n):\n",
    "    return np.full((1,n), np.linspace(0,1,n))\n",
    "a = a_very_usefull_function(15)\n",
    "print(a)\n",
    "a.shape"
   ]
  },
  {
   "cell_type": "markdown",
   "metadata": {},
   "source": [
    "4. Generate a 10x12 array and extract row 0-4 of columns 8-12."
   ]
  },
  {
   "cell_type": "code",
   "execution_count": 498,
   "metadata": {
    "scrolled": true
   },
   "outputs": [
    {
     "name": "stdout",
     "output_type": "stream",
     "text": [
      "full matrix\n",
      "[[ 0.  1.  2.  3.  4.  5.  6.  7.  8.  9. 10. 11.]\n",
      " [ 0.  1.  2.  3.  4.  5.  6.  7.  8.  9. 10. 11.]\n",
      " [ 0.  1.  2.  3.  4.  5.  6.  7.  8.  9. 10. 11.]\n",
      " [ 0.  1.  2.  3.  4.  5.  6.  7.  8.  9. 10. 11.]\n",
      " [ 0.  1.  2.  3.  4.  5.  6.  7.  8.  9. 10. 11.]\n",
      " [ 0.  1.  2.  3.  4.  5.  6.  7.  8.  9. 10. 11.]\n",
      " [ 0.  1.  2.  3.  4.  5.  6.  7.  8.  9. 10. 11.]\n",
      " [ 0.  1.  2.  3.  4.  5.  6.  7.  8.  9. 10. 11.]\n",
      " [ 0.  1.  2.  3.  4.  5.  6.  7.  8.  9. 10. 11.]\n",
      " [ 0.  1.  2.  3.  4.  5.  6.  7.  8.  9. 10. 11.]]\n",
      "sub matrix\n",
      "[[ 8.  9. 10. 11.]\n",
      " [ 8.  9. 10. 11.]\n",
      " [ 8.  9. 10. 11.]\n",
      " [ 8.  9. 10. 11.]]\n"
     ]
    }
   ],
   "source": [
    "a = np.full((10,12), np.linspace(0,11,12))\n",
    "print(\"full matrix\")\n",
    "print(a)\n",
    "#grab by slices rows 0-4 col 8 9 10 && 11\n",
    "b = a[0:4:1, [8,9,10,11]]\n",
    "print(\"sub matrix\")\n",
    "print(b)"
   ]
  },
  {
   "cell_type": "markdown",
   "metadata": {},
   "source": [
    "5. Using the function in Q3, get m vectors and bind them together (to have a m x n) matrix.\n",
    "Plot the matrix with matplotlib’s imshow"
   ]
  },
  {
   "cell_type": "code",
   "execution_count": 499,
   "metadata": {
    "scrolled": true
   },
   "outputs": [
    {
     "name": "stdout",
     "output_type": "stream",
     "text": [
      "[[0.         0.01010101 0.02020202 ... 0.97979798 0.98989899 1.        ]\n",
      " [0.         0.01010101 0.02020202 ... 0.97979798 0.98989899 1.        ]\n",
      " [0.         0.01010101 0.02020202 ... 0.97979798 0.98989899 1.        ]\n",
      " ...\n",
      " [0.         0.01010101 0.02020202 ... 0.97979798 0.98989899 1.        ]\n",
      " [0.         0.01010101 0.02020202 ... 0.97979798 0.98989899 1.        ]\n",
      " [0.         0.01010101 0.02020202 ... 0.97979798 0.98989899 1.        ]]\n"
     ]
    },
    {
     "data": {
      "text/plain": [
       "<matplotlib.image.AxesImage at 0x7f67ef66ac88>"
      ]
     },
     "execution_count": 499,
     "metadata": {},
     "output_type": "execute_result"
    },
    {
     "data": {
      "image/png": "[encoded data removed]",
      "text/plain": [
       "<Figure size 432x288 with 1 Axes>"
      ]
     },
     "metadata": {
      "needs_background": "light"
     },
     "output_type": "display_data"
    }
   ],
   "source": [
    "#what question wants\n",
    "import matplotlib.pyplot as plot\n",
    "size_1 = 100;\n",
    "size_2 = 100;\n",
    "a = np.full((size_1,size_2), a_very_usefull_function((size_1)))\n",
    "a_plot = np.matrix(a)\n",
    "print(a_plot)\n",
    "plot.imshow(a_plot)\n"
   ]
  },
  {
   "cell_type": "code",
   "execution_count": 500,
   "metadata": {},
   "outputs": [
    {
     "name": "stdout",
     "output_type": "stream",
     "text": [
      "[[0.00000000e+00 9.97008973e-04 1.99401795e-03 ... 9.98005982e-01\n",
      "  9.99002991e-01 1.00000000e+00]\n",
      " [0.00000000e+00 9.97008973e-04 1.99401795e-03 ... 9.98005982e-01\n",
      "  9.99002991e-01 1.00000000e+00]\n",
      " [0.00000000e+00 9.97008973e-04 1.99401795e-03 ... 9.98005982e-01\n",
      "  9.99002991e-01 1.00000000e+00]\n",
      " ...\n",
      " [0.00000000e+00 9.97008973e-04 1.99401795e-03 ... 9.98005982e-01\n",
      "  9.99002991e-01 1.00000000e+00]\n",
      " [0.00000000e+00 9.97008973e-04 1.99401795e-03 ... 9.98005982e-01\n",
      "  9.99002991e-01 1.00000000e+00]\n",
      " [0.00000000e+00 9.97008973e-04 1.99401795e-03 ... 9.98005982e-01\n",
      "  9.99002991e-01 1.00000000e+00]]\n",
      "[[0.00000000e+00 9.97008973e-04 1.99401795e-03 ... 9.98005982e-01\n",
      "  9.99002991e-01 1.00000000e+00]\n",
      " [0.00000000e+00 9.97008973e-04 1.99401795e-03 ... 9.98005982e-01\n",
      "  9.99002991e-01 1.00000000e+00]\n",
      " [0.00000000e+00 9.97008973e-04 1.99401795e-03 ... 9.98005982e-01\n",
      "  9.99002991e-01 1.00000000e+00]\n",
      " ...\n",
      " [0.00000000e+00 9.97008973e-04 1.99401795e-03 ... 9.98005982e-01\n",
      "  9.99002991e-01 1.00000000e+00]\n",
      " [0.00000000e+00 9.97008973e-04 1.99401795e-03 ... 9.98005982e-01\n",
      "  9.99002991e-01 1.00000000e+00]\n",
      " [0.00000000e+00 9.97008973e-04 1.99401795e-03 ... 9.98005982e-01\n",
      "  9.99002991e-01 1.00000000e+00]]\n"
     ]
    },
    {
     "data": {
      "text/plain": [
       "<matplotlib.image.AxesImage at 0x7f67ef63cf98>"
      ]
     },
     "execution_count": 500,
     "metadata": {},
     "output_type": "execute_result"
    },
    {
     "data": {
      "image/png": "[encoded data removed]",
      "text/plain": [
       "<Figure size 432x288 with 1 Axes>"
      ]
     },
     "metadata": {
      "needs_background": "light"
     },
     "output_type": "display_data"
    }
   ],
   "source": [
    "#so i can learn\n",
    "size_2 = 1004\n",
    "#c = np.full((size_1), a_very_usefull_function((size_1)))\n",
    "#d = np.full((size_2), a_very_usefull_function((size_2)))\n",
    "#c.resize(d.shape)# if (c < d) else d.resize(c.shape)\n",
    "e = np.full((size_1,size_2), a_very_usefull_function((size_2)))\n",
    "print(e)\n",
    "#print(c)\n",
    "#print(d)\n",
    "print(e)\n",
    "e_plot = np.matrix(e)\n",
    "#e_plot = np.matrix(e);\n",
    "plot.imshow(e_plot)"
   ]
  },
  {
   "cell_type": "markdown",
   "metadata": {},
   "source": [
    "6. Multiply the resulting matrix from Q5 with the matrix of a picture of your choice.\n",
    "Plot the resulting matrix."
   ]
  },
  {
   "cell_type": "code",
   "execution_count": 501,
   "metadata": {
    "scrolled": true
   },
   "outputs": [
    {
     "name": "stdout",
     "output_type": "stream",
     "text": [
      "base image\n"
     ]
    },
    {
     "data": {
      "text/plain": [
       "<matplotlib.image.AxesImage at 0x7f67ef58ca20>"
      ]
     },
     "execution_count": 501,
     "metadata": {},
     "output_type": "execute_result"
    },
    {
     "data": {
      "image/png": "[encoded data removed]",
      "text/plain": [
       "<Figure size 432x288 with 1 Axes>"
      ]
     },
     "metadata": {
      "needs_background": "light"
     },
     "output_type": "display_data"
    }
   ],
   "source": [
    "#imread nativly works with .png , change to handle more extensions ?\n",
    "img = plot.imread(\"test.png\")\n",
    "print(\"base image\")\n",
    "plot.imshow(img)\n"
   ]
  },
  {
   "cell_type": "code",
   "execution_count": 502,
   "metadata": {},
   "outputs": [
    {
     "name": "stdout",
     "output_type": "stream",
     "text": [
      "new image\n"
     ]
    },
    {
     "data": {
      "text/plain": [
       "<matplotlib.image.AxesImage at 0x7f67ef567518>"
      ]
     },
     "execution_count": 502,
     "metadata": {},
     "output_type": "execute_result"
    },
    {
     "data": {
      "image/png": "[encoded data removed]",
      "text/plain": [
       "<Figure size 432x288 with 1 Axes>"
      ]
     },
     "metadata": {
      "needs_background": "light"
     },
     "output_type": "display_data"
    }
   ],
   "source": [
    "# so the broadcasting (matrix operators) are compatible when\n",
    "#they are equal, or\n",
    "#one of them is 1\n",
    "\n",
    "#this requires the shapes of the two to be the same\n",
    "#so you have to tailer the matrix to the img dimensions\n",
    "#0 - 3 axis because rgba\n",
    "for i in range(0, 4):\n",
    "    img[:,:,i] *= a_plot\n",
    "print(\"new image\")\n",
    "plot.imshow(img)"
   ]
  },
  {
   "cell_type": "markdown",
   "metadata": {},
   "source": [
    "    Part 2: The fun part  *Filters.\n",
    "Image editing / processing is done by changing the values of the matrix (pixel by pixel).\n",
    "In this section you will code FOUR (non-grayscale) commonly used image filters.\n",
    "Filters to choose from:\n",
    "• Amaro\n",
    "• Mayfair\n",
    "• Rise\n",
    "• Hudson\n",
    "• Valencia\n",
    "• X-Pro II\n",
    "• Nashville\n",
    "• Lo-Fi\n",
    "• Sierra\n",
    "• Earlybird\n",
    "• Sutro\n",
    "• Toaster"
   ]
  },
  {
   "cell_type": "code",
   "execution_count": 503,
   "metadata": {},
   "outputs": [],
   "source": [
    "# first we want to make a suite of generic helper functions to be reused\n",
    "\n",
    "#these should take the img (a) the mask (b) and the y/x limits of the img\n",
    "#always compares a to b\n",
    "def mat_add(a,b,lim1,lim2):\n",
    "    # new array with the y/x dimensions of the input img\n",
    "    ret = np.zeros((a.shape[0],a.shape[1]))\n",
    "    for i in range(0,lim1):\n",
    "        for j in range(0,lim2):\n",
    "            ret[i][j] = a[i][j] + b[i][j]\n",
    "            j = j + 1\n",
    "        i = i + 1\n",
    "    return (ret)\n",
    "def mat_dif(a,b,lim1,lim2):\n",
    "    # new array with the y/x dimensions of the input img\n",
    "    ret = np.zeros((a.shape[0],a.shape[1]))\n",
    "    for i in range(0,lim1):\n",
    "        for j in range(0,lim2):\n",
    "            ret[i][j] = a[i][j] - b[i][j]\n",
    "            j = j + 1\n",
    "        i = i + 1\n",
    "    return (ret)\n",
    "#split and merge rgb values\n",
    "#i love being able to return multiple things\n",
    "def split_rgb(img):\n",
    "    img_R = img[:,:,0]\n",
    "    img_G = img[:,:,1]\n",
    "    img_B = img[:,:,2]\n",
    "    return img_R,img_G,img_B\n",
    "def merge_rgb(img_R,img_G,img_B):\n",
    "    #axis is 2 because we split like this img_R = img[:,:,0]\n",
    "    ret = np.stack([img_R,img_G,img_B],axis=2)\n",
    "    return ret\n",
    "#protect against clipping warning message\n",
    "def lim_for_uint8(img_R,img_G,img_B):\n",
    "    lim1 = img_R.shape[0]\n",
    "    lim2 = img_R.shape[1]\n",
    "    for i in range(0,lim1):\n",
    "        for j in range(0,lim2):\n",
    "            #if (img_R[i][j] > 255):\n",
    "            img_R[i][j] %= 255\n",
    "            #if (img_G[i][j] > 255):\n",
    "            img_G[i][j] %= 255\n",
    "            #if (img_B[i][j] > 255):\n",
    "            img_B[i][j] %= 255\n",
    "            j = j + 1\n",
    "        i = i + 1\n",
    "    return (img_R,img_G,img_B)\n",
    "#put image\n",
    "def out_img_RGB(r,g,b):\n",
    "    r,g,b = lim_for_uint8(r,g,b)\n",
    "    tmp = merge_rgb(r,g,b)\n",
    "    output_img(tmp)\n",
    "def output_img(img):\n",
    "    plot.axis('off')\n",
    "    plot.imshow((img * 255).astype(np.uint8))\n",
    "    #plot.imshow(img)    tmp = merge_rgb(r,g,b)"
   ]
  },
  {
   "cell_type": "markdown",
   "metadata": {},
   "source": [
    "    Test masks:"
   ]
  },
  {
   "cell_type": "code",
   "execution_count": 504,
   "metadata": {
    "scrolled": true
   },
   "outputs": [
    {
     "data": {
      "text/plain": [
       "<matplotlib.image.AxesImage at 0x7f67ef4c7e80>"
      ]
     },
     "execution_count": 504,
     "metadata": {},
     "output_type": "execute_result"
    },
    {
     "data": {
      "image/png": "[encoded data removed]",
      "text/plain": [
       "<Figure size 432x288 with 1 Axes>"
      ]
     },
     "metadata": {
      "needs_background": "light"
     },
     "output_type": "display_data"
    }
   ],
   "source": [
    "img = plot.imread(\"test.png\")\n",
    "plot.axis('off')\n",
    "plot.imshow(img)"
   ]
  },
  {
   "cell_type": "code",
   "execution_count": 505,
   "metadata": {},
   "outputs": [
    {
     "data": {
      "image/png": "[encoded data removed]",
      "text/plain": [
       "<Figure size 432x288 with 1 Axes>"
      ]
     },
     "metadata": {
      "needs_background": "light"
     },
     "output_type": "display_data"
    }
   ],
   "source": [
    "#im sure the reason it loses the whitespace is something really dumb\n",
    "def test_mask(img):\n",
    "    r,g,b = split_rgb(img)\n",
    "    #output_img(img)\n",
    "    #this is pretty bad and im not sure why it changes all the outer white to black\n",
    "    b = mat_add(b,b,b.shape[0],b.shape[1])\n",
    "    #tmp = merge_rgb(r, g, b)\n",
    "    #output_img(tmp)\n",
    "    #tmp = merge_rgb(r, g, b)\n",
    "    out_img_RGB(r,g,b)\n",
    "    return\n",
    "\n",
    "test_mask(img)"
   ]
  },
  {
   "cell_type": "code",
   "execution_count": null,
   "metadata": {},
   "outputs": [],
   "source": []
  }
 ],
 "metadata": {
  "kernelspec": {
   "display_name": "Python 3",
   "language": "python",
   "name": "python3"
  },
  "language_info": {
   "codemirror_mode": {
    "name": "ipython",
    "version": 3
   },
   "file_extension": ".py",
   "mimetype": "text/x-python",
   "name": "python",
   "nbconvert_exporter": "python",
   "pygments_lexer": "ipython3",
   "version": "3.6.3"
  }
 },
 "nbformat": 4,
 "nbformat_minor": 2
}
